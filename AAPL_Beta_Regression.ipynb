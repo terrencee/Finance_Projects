{
  "nbformat": 4,
  "nbformat_minor": 0,
  "metadata": {
    "colab": {
      "provenance": [],
      "authorship_tag": "ABX9TyOKEtgnxhKUSuqjj1w3ODxf",
      "include_colab_link": true
    },
    "kernelspec": {
      "name": "python3",
      "display_name": "Python 3"
    },
    "language_info": {
      "name": "python"
    }
  },
  "cells": [
    {
      "cell_type": "markdown",
      "metadata": {
        "id": "view-in-github",
        "colab_type": "text"
      },
      "source": [
        "<a href=\"https://colab.research.google.com/github/terrencee/Finance_Projects/blob/main/AAPL_Beta_Regression.ipynb\" target=\"_parent\"><img src=\"https://colab.research.google.com/assets/colab-badge.svg\" alt=\"Open In Colab\"/></a>"
      ]
    },
    {
      "cell_type": "code",
      "execution_count": 21,
      "metadata": {
        "id": "G4ZYphZUiiso"
      },
      "outputs": [],
      "source": [
        "\n",
        "import yfinance as yf\n",
        "import pandas as pd\n",
        "import statsmodels.api as sm"
      ]
    },
    {
      "cell_type": "code",
      "source": [
        "# Download monthly adjusted close prices\n",
        "aapl = yf.download(\"AAPL\", start=\"2010-01-01\", end=\"2023-12-31\", interval=\"1mo\")\n"
      ],
      "metadata": {
        "colab": {
          "base_uri": "https://localhost:8080/"
        },
        "id": "KNFHCUnEk2Jx",
        "outputId": "754dbcf6-5ad7-47e8-835e-234652823b77"
      },
      "execution_count": 4,
      "outputs": [
        {
          "output_type": "stream",
          "name": "stderr",
          "text": [
            "/tmp/ipython-input-3763324238.py:2: FutureWarning: YF.download() has changed argument auto_adjust default to True\n",
            "  aapl = yf.download(\"AAPL\", start=\"2010-01-01\", end=\"2023-12-31\", interval=\"1mo\")\n",
            "\r[*********************100%***********************]  1 of 1 completed\n"
          ]
        }
      ]
    },
    {
      "cell_type": "code",
      "source": [],
      "metadata": {
        "id": "yR0RRa3_mfgX"
      },
      "execution_count": null,
      "outputs": []
    },
    {
      "cell_type": "code",
      "source": [
        "aapl.columns"
      ],
      "metadata": {
        "colab": {
          "base_uri": "https://localhost:8080/"
        },
        "id": "yPsciYcDlCgC",
        "outputId": "e448c9cd-fa00-4bff-afe3-3ffda90aeafa"
      },
      "execution_count": 6,
      "outputs": [
        {
          "output_type": "execute_result",
          "data": {
            "text/plain": [
              "MultiIndex([( 'Close', 'AAPL'),\n",
              "            (  'High', 'AAPL'),\n",
              "            (   'Low', 'AAPL'),\n",
              "            (  'Open', 'AAPL'),\n",
              "            ('Volume', 'AAPL')],\n",
              "           names=['Price', 'Ticker'])"
            ]
          },
          "metadata": {},
          "execution_count": 6
        }
      ]
    },
    {
      "cell_type": "code",
      "source": [
        "# Flatten the column names\n",
        "aapl.columns = aapl.columns.get_level_values(0)\n",
        "aapl.columns"
      ],
      "metadata": {
        "colab": {
          "base_uri": "https://localhost:8080/"
        },
        "id": "SG7tioXgmw2Z",
        "outputId": "4c18fe92-8f07-47f7-a6a5-8d6cdc34542d"
      },
      "execution_count": 9,
      "outputs": [
        {
          "output_type": "execute_result",
          "data": {
            "text/plain": [
              "Index(['Close', 'High', 'Low', 'Open', 'Volume'], dtype='object', name='Price')"
            ]
          },
          "metadata": {},
          "execution_count": 9
        }
      ]
    },
    {
      "cell_type": "code",
      "source": [
        "aapl = aapl['Close'].dropna()\n"
      ],
      "metadata": {
        "id": "uTGkwazck_Uk"
      },
      "execution_count": 11,
      "outputs": []
    },
    {
      "cell_type": "code",
      "source": [
        "# getting monthly returns\n",
        "\n",
        "aapl_returns = aapl.pct_change().dropna()\n",
        "aapl_returns.name = \"AAPL\""
      ],
      "metadata": {
        "id": "zq0Pc3ZDnaMf"
      },
      "execution_count": 13,
      "outputs": []
    },
    {
      "cell_type": "code",
      "source": [
        "# Load Fama-French data\n",
        "#Reads the Fama-French monthly factors from Kenneth French’s CSV.\n",
        "\n",
        "# Cleans up the date and converts it to monthly format.\n",
        "\n",
        "# Extracts Mkt-RF (market premium) and RF (risk-free rate).\n",
        "\n",
        "ff = pd.read_csv(\"F-F_Research_Data_Factors.csv\", skiprows=3)\n",
        "ff = ff.rename(columns={\"Unnamed: 0\": \"Date\"})\n",
        "ff = ff[ff[\"Date\"].str.len() == 6]  # Clean footer\n",
        "ff[\"Date\"] = pd.to_datetime(ff[\"Date\"], format=\"%Y%m\").dt.to_period(\"M\")\n",
        "\n",
        "# Convert to numeric\n",
        "ff[[\"Mkt-RF\", \"RF\"]] = ff[[\"Mkt-RF\", \"RF\"]].apply(pd.to_numeric)"
      ],
      "metadata": {
        "id": "fRrj0nnio0kW"
      },
      "execution_count": 14,
      "outputs": []
    },
    {
      "cell_type": "code",
      "source": [
        "# Create total market return\n",
        "ff[\"Market\"] = ff[\"Mkt-RF\"] + ff[\"RF\"]\n",
        "\n",
        "# Convert AAPL index to period for merge\n",
        "aapl_returns.index = aapl_returns.index.to_period(\"M\")"
      ],
      "metadata": {
        "id": "NUbAnS9UrO1S"
      },
      "execution_count": 15,
      "outputs": []
    },
    {
      "cell_type": "code",
      "source": [
        "ff[\"Market\"]"
      ],
      "metadata": {
        "colab": {
          "base_uri": "https://localhost:8080/",
          "height": 458
        },
        "id": "YsgbJPdyrV7Q",
        "outputId": "a9ab4b00-95bf-4a40-924b-73ec7090c9f2"
      },
      "execution_count": 16,
      "outputs": [
        {
          "output_type": "execute_result",
          "data": {
            "text/plain": [
              "0       3.11\n",
              "1       2.89\n",
              "2       0.61\n",
              "3      -2.95\n",
              "4       2.85\n",
              "        ... \n",
              "1183   -2.11\n",
              "1184   -6.05\n",
              "1185   -0.49\n",
              "1186    6.44\n",
              "1187    5.20\n",
              "Name: Market, Length: 1188, dtype: float64"
            ],
            "text/html": [
              "<div>\n",
              "<style scoped>\n",
              "    .dataframe tbody tr th:only-of-type {\n",
              "        vertical-align: middle;\n",
              "    }\n",
              "\n",
              "    .dataframe tbody tr th {\n",
              "        vertical-align: top;\n",
              "    }\n",
              "\n",
              "    .dataframe thead th {\n",
              "        text-align: right;\n",
              "    }\n",
              "</style>\n",
              "<table border=\"1\" class=\"dataframe\">\n",
              "  <thead>\n",
              "    <tr style=\"text-align: right;\">\n",
              "      <th></th>\n",
              "      <th>Market</th>\n",
              "    </tr>\n",
              "  </thead>\n",
              "  <tbody>\n",
              "    <tr>\n",
              "      <th>0</th>\n",
              "      <td>3.11</td>\n",
              "    </tr>\n",
              "    <tr>\n",
              "      <th>1</th>\n",
              "      <td>2.89</td>\n",
              "    </tr>\n",
              "    <tr>\n",
              "      <th>2</th>\n",
              "      <td>0.61</td>\n",
              "    </tr>\n",
              "    <tr>\n",
              "      <th>3</th>\n",
              "      <td>-2.95</td>\n",
              "    </tr>\n",
              "    <tr>\n",
              "      <th>4</th>\n",
              "      <td>2.85</td>\n",
              "    </tr>\n",
              "    <tr>\n",
              "      <th>...</th>\n",
              "      <td>...</td>\n",
              "    </tr>\n",
              "    <tr>\n",
              "      <th>1183</th>\n",
              "      <td>-2.11</td>\n",
              "    </tr>\n",
              "    <tr>\n",
              "      <th>1184</th>\n",
              "      <td>-6.05</td>\n",
              "    </tr>\n",
              "    <tr>\n",
              "      <th>1185</th>\n",
              "      <td>-0.49</td>\n",
              "    </tr>\n",
              "    <tr>\n",
              "      <th>1186</th>\n",
              "      <td>6.44</td>\n",
              "    </tr>\n",
              "    <tr>\n",
              "      <th>1187</th>\n",
              "      <td>5.20</td>\n",
              "    </tr>\n",
              "  </tbody>\n",
              "</table>\n",
              "<p>1188 rows × 1 columns</p>\n",
              "</div><br><label><b>dtype:</b> float64</label>"
            ]
          },
          "metadata": {},
          "execution_count": 16
        }
      ]
    },
    {
      "cell_type": "code",
      "source": [
        "aapl_returns.index"
      ],
      "metadata": {
        "colab": {
          "base_uri": "https://localhost:8080/"
        },
        "id": "2TaxCFrsrbwK",
        "outputId": "8c9bc428-e6fe-4f8e-8465-54a9213eac8b"
      },
      "execution_count": 17,
      "outputs": [
        {
          "output_type": "execute_result",
          "data": {
            "text/plain": [
              "PeriodIndex(['2010-02', '2010-03', '2010-04', '2010-05', '2010-06', '2010-07',\n",
              "             '2010-08', '2010-09', '2010-10', '2010-11',\n",
              "             ...\n",
              "             '2023-03', '2023-04', '2023-05', '2023-06', '2023-07', '2023-08',\n",
              "             '2023-09', '2023-10', '2023-11', '2023-12'],\n",
              "            dtype='period[M]', name='Date', length=167)"
            ]
          },
          "metadata": {},
          "execution_count": 17
        }
      ]
    },
    {
      "cell_type": "markdown",
      "source": [
        "Aligns AAPL returns to monthly period format.\n",
        "\n",
        "Merges AAPL returns with market premium and risk-free rate.\n",
        "\n",
        "Calculates AAPL Excess Return = AAPL return – RF.\n",
        "\n",
        "Multiplies AAPL return by 100 because Mkt-RF and RF are in percentage units (e.g., 1.2 for 1.2%)."
      ],
      "metadata": {
        "id": "zW69zfw20jSH"
      }
    },
    {
      "cell_type": "code",
      "source": [
        "# Merge datasets\n",
        "df = pd.concat([aapl_returns, ff.set_index(\"Date\")[[\"Mkt-RF\", \"RF\"]]], axis=1).dropna()\n",
        "\n",
        "# Compute AAPL excess return\n",
        "df[\"AAPL_Excess\"] = (df[\"AAPL\"] * 100) - df[\"RF\"]"
      ],
      "metadata": {
        "id": "IK3PsxpLrkzb"
      },
      "execution_count": 18,
      "outputs": []
    },
    {
      "cell_type": "code",
      "source": [
        "df.head(5)"
      ],
      "metadata": {
        "colab": {
          "base_uri": "https://localhost:8080/",
          "height": 237
        },
        "id": "d7oCTqXTrrm6",
        "outputId": "b22fbbea-e6e5-42da-e297-4cc34a1f9986"
      },
      "execution_count": 20,
      "outputs": [
        {
          "output_type": "execute_result",
          "data": {
            "text/plain": [
              "             AAPL  Mkt-RF    RF  AAPL_Excess\n",
              "Date                                        \n",
              "2010-02  0.065397    3.39  0.00     6.539657\n",
              "2010-03  0.148470    6.30  0.01    14.837021\n",
              "2010-04  0.111021    1.99  0.01    11.092111\n",
              "2010-05 -0.016125   -7.90  0.01    -1.622467\n",
              "2010-06 -0.020827   -5.56  0.01    -2.092655"
            ],
            "text/html": [
              "\n",
              "  <div id=\"df-efdfc389-db06-4619-8def-197e679eda75\" class=\"colab-df-container\">\n",
              "    <div>\n",
              "<style scoped>\n",
              "    .dataframe tbody tr th:only-of-type {\n",
              "        vertical-align: middle;\n",
              "    }\n",
              "\n",
              "    .dataframe tbody tr th {\n",
              "        vertical-align: top;\n",
              "    }\n",
              "\n",
              "    .dataframe thead th {\n",
              "        text-align: right;\n",
              "    }\n",
              "</style>\n",
              "<table border=\"1\" class=\"dataframe\">\n",
              "  <thead>\n",
              "    <tr style=\"text-align: right;\">\n",
              "      <th></th>\n",
              "      <th>AAPL</th>\n",
              "      <th>Mkt-RF</th>\n",
              "      <th>RF</th>\n",
              "      <th>AAPL_Excess</th>\n",
              "    </tr>\n",
              "    <tr>\n",
              "      <th>Date</th>\n",
              "      <th></th>\n",
              "      <th></th>\n",
              "      <th></th>\n",
              "      <th></th>\n",
              "    </tr>\n",
              "  </thead>\n",
              "  <tbody>\n",
              "    <tr>\n",
              "      <th>2010-02</th>\n",
              "      <td>0.065397</td>\n",
              "      <td>3.39</td>\n",
              "      <td>0.00</td>\n",
              "      <td>6.539657</td>\n",
              "    </tr>\n",
              "    <tr>\n",
              "      <th>2010-03</th>\n",
              "      <td>0.148470</td>\n",
              "      <td>6.30</td>\n",
              "      <td>0.01</td>\n",
              "      <td>14.837021</td>\n",
              "    </tr>\n",
              "    <tr>\n",
              "      <th>2010-04</th>\n",
              "      <td>0.111021</td>\n",
              "      <td>1.99</td>\n",
              "      <td>0.01</td>\n",
              "      <td>11.092111</td>\n",
              "    </tr>\n",
              "    <tr>\n",
              "      <th>2010-05</th>\n",
              "      <td>-0.016125</td>\n",
              "      <td>-7.90</td>\n",
              "      <td>0.01</td>\n",
              "      <td>-1.622467</td>\n",
              "    </tr>\n",
              "    <tr>\n",
              "      <th>2010-06</th>\n",
              "      <td>-0.020827</td>\n",
              "      <td>-5.56</td>\n",
              "      <td>0.01</td>\n",
              "      <td>-2.092655</td>\n",
              "    </tr>\n",
              "  </tbody>\n",
              "</table>\n",
              "</div>\n",
              "    <div class=\"colab-df-buttons\">\n",
              "\n",
              "  <div class=\"colab-df-container\">\n",
              "    <button class=\"colab-df-convert\" onclick=\"convertToInteractive('df-efdfc389-db06-4619-8def-197e679eda75')\"\n",
              "            title=\"Convert this dataframe to an interactive table.\"\n",
              "            style=\"display:none;\">\n",
              "\n",
              "  <svg xmlns=\"http://www.w3.org/2000/svg\" height=\"24px\" viewBox=\"0 -960 960 960\">\n",
              "    <path d=\"M120-120v-720h720v720H120Zm60-500h600v-160H180v160Zm220 220h160v-160H400v160Zm0 220h160v-160H400v160ZM180-400h160v-160H180v160Zm440 0h160v-160H620v160ZM180-180h160v-160H180v160Zm440 0h160v-160H620v160Z\"/>\n",
              "  </svg>\n",
              "    </button>\n",
              "\n",
              "  <style>\n",
              "    .colab-df-container {\n",
              "      display:flex;\n",
              "      gap: 12px;\n",
              "    }\n",
              "\n",
              "    .colab-df-convert {\n",
              "      background-color: #E8F0FE;\n",
              "      border: none;\n",
              "      border-radius: 50%;\n",
              "      cursor: pointer;\n",
              "      display: none;\n",
              "      fill: #1967D2;\n",
              "      height: 32px;\n",
              "      padding: 0 0 0 0;\n",
              "      width: 32px;\n",
              "    }\n",
              "\n",
              "    .colab-df-convert:hover {\n",
              "      background-color: #E2EBFA;\n",
              "      box-shadow: 0px 1px 2px rgba(60, 64, 67, 0.3), 0px 1px 3px 1px rgba(60, 64, 67, 0.15);\n",
              "      fill: #174EA6;\n",
              "    }\n",
              "\n",
              "    .colab-df-buttons div {\n",
              "      margin-bottom: 4px;\n",
              "    }\n",
              "\n",
              "    [theme=dark] .colab-df-convert {\n",
              "      background-color: #3B4455;\n",
              "      fill: #D2E3FC;\n",
              "    }\n",
              "\n",
              "    [theme=dark] .colab-df-convert:hover {\n",
              "      background-color: #434B5C;\n",
              "      box-shadow: 0px 1px 3px 1px rgba(0, 0, 0, 0.15);\n",
              "      filter: drop-shadow(0px 1px 2px rgba(0, 0, 0, 0.3));\n",
              "      fill: #FFFFFF;\n",
              "    }\n",
              "  </style>\n",
              "\n",
              "    <script>\n",
              "      const buttonEl =\n",
              "        document.querySelector('#df-efdfc389-db06-4619-8def-197e679eda75 button.colab-df-convert');\n",
              "      buttonEl.style.display =\n",
              "        google.colab.kernel.accessAllowed ? 'block' : 'none';\n",
              "\n",
              "      async function convertToInteractive(key) {\n",
              "        const element = document.querySelector('#df-efdfc389-db06-4619-8def-197e679eda75');\n",
              "        const dataTable =\n",
              "          await google.colab.kernel.invokeFunction('convertToInteractive',\n",
              "                                                    [key], {});\n",
              "        if (!dataTable) return;\n",
              "\n",
              "        const docLinkHtml = 'Like what you see? Visit the ' +\n",
              "          '<a target=\"_blank\" href=https://colab.research.google.com/notebooks/data_table.ipynb>data table notebook</a>'\n",
              "          + ' to learn more about interactive tables.';\n",
              "        element.innerHTML = '';\n",
              "        dataTable['output_type'] = 'display_data';\n",
              "        await google.colab.output.renderOutput(dataTable, element);\n",
              "        const docLink = document.createElement('div');\n",
              "        docLink.innerHTML = docLinkHtml;\n",
              "        element.appendChild(docLink);\n",
              "      }\n",
              "    </script>\n",
              "  </div>\n",
              "\n",
              "\n",
              "    <div id=\"df-4d1143ef-de50-4a2e-a09d-47dd88c663c3\">\n",
              "      <button class=\"colab-df-quickchart\" onclick=\"quickchart('df-4d1143ef-de50-4a2e-a09d-47dd88c663c3')\"\n",
              "                title=\"Suggest charts\"\n",
              "                style=\"display:none;\">\n",
              "\n",
              "<svg xmlns=\"http://www.w3.org/2000/svg\" height=\"24px\"viewBox=\"0 0 24 24\"\n",
              "     width=\"24px\">\n",
              "    <g>\n",
              "        <path d=\"M19 3H5c-1.1 0-2 .9-2 2v14c0 1.1.9 2 2 2h14c1.1 0 2-.9 2-2V5c0-1.1-.9-2-2-2zM9 17H7v-7h2v7zm4 0h-2V7h2v10zm4 0h-2v-4h2v4z\"/>\n",
              "    </g>\n",
              "</svg>\n",
              "      </button>\n",
              "\n",
              "<style>\n",
              "  .colab-df-quickchart {\n",
              "      --bg-color: #E8F0FE;\n",
              "      --fill-color: #1967D2;\n",
              "      --hover-bg-color: #E2EBFA;\n",
              "      --hover-fill-color: #174EA6;\n",
              "      --disabled-fill-color: #AAA;\n",
              "      --disabled-bg-color: #DDD;\n",
              "  }\n",
              "\n",
              "  [theme=dark] .colab-df-quickchart {\n",
              "      --bg-color: #3B4455;\n",
              "      --fill-color: #D2E3FC;\n",
              "      --hover-bg-color: #434B5C;\n",
              "      --hover-fill-color: #FFFFFF;\n",
              "      --disabled-bg-color: #3B4455;\n",
              "      --disabled-fill-color: #666;\n",
              "  }\n",
              "\n",
              "  .colab-df-quickchart {\n",
              "    background-color: var(--bg-color);\n",
              "    border: none;\n",
              "    border-radius: 50%;\n",
              "    cursor: pointer;\n",
              "    display: none;\n",
              "    fill: var(--fill-color);\n",
              "    height: 32px;\n",
              "    padding: 0;\n",
              "    width: 32px;\n",
              "  }\n",
              "\n",
              "  .colab-df-quickchart:hover {\n",
              "    background-color: var(--hover-bg-color);\n",
              "    box-shadow: 0 1px 2px rgba(60, 64, 67, 0.3), 0 1px 3px 1px rgba(60, 64, 67, 0.15);\n",
              "    fill: var(--button-hover-fill-color);\n",
              "  }\n",
              "\n",
              "  .colab-df-quickchart-complete:disabled,\n",
              "  .colab-df-quickchart-complete:disabled:hover {\n",
              "    background-color: var(--disabled-bg-color);\n",
              "    fill: var(--disabled-fill-color);\n",
              "    box-shadow: none;\n",
              "  }\n",
              "\n",
              "  .colab-df-spinner {\n",
              "    border: 2px solid var(--fill-color);\n",
              "    border-color: transparent;\n",
              "    border-bottom-color: var(--fill-color);\n",
              "    animation:\n",
              "      spin 1s steps(1) infinite;\n",
              "  }\n",
              "\n",
              "  @keyframes spin {\n",
              "    0% {\n",
              "      border-color: transparent;\n",
              "      border-bottom-color: var(--fill-color);\n",
              "      border-left-color: var(--fill-color);\n",
              "    }\n",
              "    20% {\n",
              "      border-color: transparent;\n",
              "      border-left-color: var(--fill-color);\n",
              "      border-top-color: var(--fill-color);\n",
              "    }\n",
              "    30% {\n",
              "      border-color: transparent;\n",
              "      border-left-color: var(--fill-color);\n",
              "      border-top-color: var(--fill-color);\n",
              "      border-right-color: var(--fill-color);\n",
              "    }\n",
              "    40% {\n",
              "      border-color: transparent;\n",
              "      border-right-color: var(--fill-color);\n",
              "      border-top-color: var(--fill-color);\n",
              "    }\n",
              "    60% {\n",
              "      border-color: transparent;\n",
              "      border-right-color: var(--fill-color);\n",
              "    }\n",
              "    80% {\n",
              "      border-color: transparent;\n",
              "      border-right-color: var(--fill-color);\n",
              "      border-bottom-color: var(--fill-color);\n",
              "    }\n",
              "    90% {\n",
              "      border-color: transparent;\n",
              "      border-bottom-color: var(--fill-color);\n",
              "    }\n",
              "  }\n",
              "</style>\n",
              "\n",
              "      <script>\n",
              "        async function quickchart(key) {\n",
              "          const quickchartButtonEl =\n",
              "            document.querySelector('#' + key + ' button');\n",
              "          quickchartButtonEl.disabled = true;  // To prevent multiple clicks.\n",
              "          quickchartButtonEl.classList.add('colab-df-spinner');\n",
              "          try {\n",
              "            const charts = await google.colab.kernel.invokeFunction(\n",
              "                'suggestCharts', [key], {});\n",
              "          } catch (error) {\n",
              "            console.error('Error during call to suggestCharts:', error);\n",
              "          }\n",
              "          quickchartButtonEl.classList.remove('colab-df-spinner');\n",
              "          quickchartButtonEl.classList.add('colab-df-quickchart-complete');\n",
              "        }\n",
              "        (() => {\n",
              "          let quickchartButtonEl =\n",
              "            document.querySelector('#df-4d1143ef-de50-4a2e-a09d-47dd88c663c3 button');\n",
              "          quickchartButtonEl.style.display =\n",
              "            google.colab.kernel.accessAllowed ? 'block' : 'none';\n",
              "        })();\n",
              "      </script>\n",
              "    </div>\n",
              "\n",
              "    </div>\n",
              "  </div>\n"
            ],
            "application/vnd.google.colaboratory.intrinsic+json": {
              "type": "dataframe",
              "variable_name": "df",
              "summary": "{\n  \"name\": \"df\",\n  \"rows\": 167,\n  \"fields\": [\n    {\n      \"column\": \"Date\",\n      \"properties\": {\n        \"dtype\": \"period[M]\",\n        \"num_unique_values\": 167,\n        \"samples\": [\n          \"2018-07\",\n          \"2019-02\",\n          \"2016-08\"\n        ],\n        \"semantic_type\": \"\",\n        \"description\": \"\"\n      }\n    },\n    {\n      \"column\": \"AAPL\",\n      \"properties\": {\n        \"dtype\": \"number\",\n        \"std\": 0.07831603162842354,\n        \"min\": -0.18404468996447287,\n        \"max\": 0.21438002596409578,\n        \"num_unique_values\": 167,\n        \"samples\": [\n          0.02798360549054202,\n          0.040314921416374716,\n          0.01813637973281801\n        ],\n        \"semantic_type\": \"\",\n        \"description\": \"\"\n      }\n    },\n    {\n      \"column\": \"Mkt-RF\",\n      \"properties\": {\n        \"dtype\": \"number\",\n        \"std\": 4.440543177000227,\n        \"min\": -13.37,\n        \"max\": 13.6,\n        \"num_unique_values\": 155,\n        \"samples\": [\n          1.94,\n          -6.38,\n          -1.76\n        ],\n        \"semantic_type\": \"\",\n        \"description\": \"\"\n      }\n    },\n    {\n      \"column\": \"RF\",\n      \"properties\": {\n        \"dtype\": \"number\",\n        \"std\": 0.11597449274127879,\n        \"min\": 0.0,\n        \"max\": 0.47,\n        \"num_unique_values\": 30,\n        \"samples\": [\n          0.43,\n          0.19,\n          0.34\n        ],\n        \"semantic_type\": \"\",\n        \"description\": \"\"\n      }\n    },\n    {\n      \"column\": \"AAPL_Excess\",\n      \"properties\": {\n        \"dtype\": \"number\",\n        \"std\": 7.8360203725175,\n        \"min\": -18.58446899644729,\n        \"max\": 21.428002596409577,\n        \"num_unique_values\": 167,\n        \"samples\": [\n          2.6383605490542017,\n          3.8514921416374714,\n          1.7936379732818009\n        ],\n        \"semantic_type\": \"\",\n        \"description\": \"\"\n      }\n    }\n  ]\n}"
            }
          },
          "metadata": {},
          "execution_count": 20
        }
      ]
    },
    {
      "cell_type": "markdown",
      "source": [
        "    Regresses AAPL excess return (y) on market premium (X).\n",
        "\n",
        "    Adds a constant (intercept) to estimate alpha.\n",
        "\n",
        "    Runs OLS regression.\n",
        "\n",
        "    Prints the full statistical summary.\n",
        "\n",
        " Output:\n",
        "\n",
        "    Alpha = intercept = 1.1603\n",
        "\n",
        "    Beta = slope (Mkt-RF coef) = 1.0973"
      ],
      "metadata": {
        "id": "7mHSyho50r3z"
      }
    },
    {
      "cell_type": "code",
      "source": [
        "# Estimate beta via regression\n",
        "\n",
        "X = df[\"Mkt-RF\"]\n",
        "y = df[\"AAPL_Excess\"]\n",
        "\n",
        "X = sm.add_constant(X)\n",
        "model = sm.OLS(y, X).fit()\n",
        "\n",
        "print(model.summary())"
      ],
      "metadata": {
        "colab": {
          "base_uri": "https://localhost:8080/"
        },
        "id": "N1KrPDJ4rys_",
        "outputId": "0b619686-ae86-491c-c0d4-e01eec18539a"
      },
      "execution_count": 22,
      "outputs": [
        {
          "output_type": "stream",
          "name": "stdout",
          "text": [
            "                            OLS Regression Results                            \n",
            "==============================================================================\n",
            "Dep. Variable:            AAPL_Excess   R-squared:                       0.387\n",
            "Model:                            OLS   Adj. R-squared:                  0.383\n",
            "Method:                 Least Squares   F-statistic:                     104.0\n",
            "Date:                Wed, 06 Aug 2025   Prob (F-statistic):           3.02e-19\n",
            "Time:                        14:01:37   Log-Likelihood:                -539.45\n",
            "No. Observations:                 167   AIC:                             1083.\n",
            "Df Residuals:                     165   BIC:                             1089.\n",
            "Df Model:                           1                                         \n",
            "Covariance Type:            nonrobust                                         \n",
            "==============================================================================\n",
            "                 coef    std err          t      P>|t|      [0.025      0.975]\n",
            "------------------------------------------------------------------------------\n",
            "const          1.1603      0.490      2.366      0.019       0.192       2.128\n",
            "Mkt-RF         1.0973      0.108     10.199      0.000       0.885       1.310\n",
            "==============================================================================\n",
            "Omnibus:                        9.210   Durbin-Watson:                   1.823\n",
            "Prob(Omnibus):                  0.010   Jarque-Bera (JB):               12.124\n",
            "Skew:                          -0.352   Prob(JB):                      0.00233\n",
            "Kurtosis:                       4.117   Cond. No.                         4.71\n",
            "==============================================================================\n",
            "\n",
            "Notes:\n",
            "[1] Standard Errors assume that the covariance matrix of the errors is correctly specified.\n"
          ]
        }
      ]
    },
    {
      "cell_type": "code",
      "source": [
        "import matplotlib.pyplot as plt\n",
        "import seaborn as sns\n",
        "\n",
        "# Plot the data and the regression line\n",
        "plt.figure(figsize=(10, 6))\n",
        "sns.regplot(x=\"Mkt-RF\", y=\"AAPL_Excess\", data=df)\n",
        "plt.xlabel(\"Market Risk Premium (Mkt-RF)\")\n",
        "plt.ylabel(\"AAPL Excess Return\")\n",
        "plt.title(\"AAPL Excess Return vs. Market Risk Premium\")\n",
        "plt.grid(True)\n",
        "plt.show()"
      ],
      "metadata": {
        "colab": {
          "base_uri": "https://localhost:8080/",
          "height": 564
        },
        "id": "TT0MPEZNsPSJ",
        "outputId": "e1813724-8e20-40a1-d0fa-93f5df5f53f1"
      },
      "execution_count": 23,
      "outputs": [
        {
          "output_type": "display_data",
          "data": {
            "text/plain": [
              "<Figure size 1000x600 with 1 Axes>"
            ],
            "image/png": "[encoded data removed]"
          },
          "metadata": {}
        }
      ]
    }
  ]
}